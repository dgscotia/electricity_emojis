{
 "cells": [
  {
   "cell_type": "code",
   "execution_count": null,
   "metadata": {},
   "outputs": [],
   "source": [
    "import pandas as pd\n",
    "country = \"Germany\"\n",
    "year = 2020\n",
    "gen = \"generation_twh\"\n",
    "start = 2010\n",
    "stop = 2020\n",
    "years = [year for year in range(start,stop+1)]"
   ]
  },
  {
   "cell_type": "code",
   "execution_count": null,
   "metadata": {},
   "outputs": [],
   "source": [
    "def change_dtype(x):\n",
    "    try:\n",
    "        return float(x)\n",
    "    except:\n",
    "        return x"
   ]
  },
  {
   "cell_type": "code",
   "execution_count": null,
   "metadata": {},
   "outputs": [],
   "source": [
    "df = pd.read_csv(\"EER_2022_generation.csv\")\n",
    "emojis = {\n",
    "    'fossils': 'F',\n",
    "    'solar': 'S',\n",
    "    'wind': 'W',\n",
    "    'nuclear': 'N',\n",
    "    'hydro': 'H',\n",
    "    'biomass': 'B',\n",
    "    'geo': 'G'\n",
    "}"
   ]
  },
  {
   "cell_type": "code",
   "execution_count": null,
   "metadata": {},
   "outputs": [],
   "source": [
    "df = df.apply(lambda x: change_dtype(x))\n",
    "# df = df.set_index(\"fuel_code\")"
   ]
  },
  {
   "cell_type": "code",
   "execution_count": null,
   "metadata": {},
   "outputs": [],
   "source": [
    "def filter_by_country(target_country, df_func):\n",
    "    filt = df_func[\"country_name\"] == target_country\n",
    "    return filt\n",
    "\n",
    "def filter_by_year(target_year, df_func):\n",
    "    filt_year = df_func[\"year\"] == target_year\n",
    "    return filt_year\n",
    "\n",
    "filt_country = filter_by_country(country, df)\n",
    "filt_year = filter_by_year(year, df)"
   ]
  },
  {
   "cell_type": "code",
   "execution_count": null,
   "metadata": {},
   "outputs": [],
   "source": [
    "\"\"\" Making full DE dictionary as example \"\"\"\n",
    "\n",
    "df_test = df.groupby()\n"
   ]
  },
  {
   "cell_type": "code",
   "execution_count": null,
   "metadata": {},
   "outputs": [],
   "source": [
    "def create_yearly_gen_dict(df_country, years):\n",
    "    return {year: df_country[filter_by_year(year, df_country)][gen].to_dict() for year in years}\n",
    "\n",
    "def create_country_dict(dataframe, country):\n",
    "    df = dataframe[filter_by_country(country, dataframe)]\n",
    "    df.set_index(\"fuel_code\",inplace=True)\n",
    "    return df"
   ]
  },
  {
   "cell_type": "code",
   "execution_count": 180,
   "metadata": {},
   "outputs": [
    {
     "data": {
      "text/plain": [
       "{2010: {'BIO': 4.44,\n",
       "  'GAS': 23.76,\n",
       "  'HARDCOAL': 23.36,\n",
       "  'HYDRO': 62.71,\n",
       "  'LIGNITE': 0.0,\n",
       "  'NUCLEAR': 428.52,\n",
       "  'OTHFOSS': 10.51,\n",
       "  'OTHRENEW': 0.48,\n",
       "  'SOLAR': 0.62,\n",
       "  'WIND': 9.94},\n",
       " 2011: {'BIO': 5.04,\n",
       "  'GAS': 29.49,\n",
       "  'HARDCOAL': 17.39,\n",
       "  'HYDRO': 45.74,\n",
       "  'LIGNITE': 0.0,\n",
       "  'NUCLEAR': 442.39,\n",
       "  'OTHFOSS': 12.11,\n",
       "  'OTHRENEW': 0.54,\n",
       "  'SOLAR': 2.33,\n",
       "  'WIND': 12.37},\n",
       " 2012: {'BIO': 5.3,\n",
       "  'GAS': 22.75,\n",
       "  'HARDCOAL': 21.46,\n",
       "  'HYDRO': 59.83,\n",
       "  'LIGNITE': 0.0,\n",
       "  'NUCLEAR': 425.41,\n",
       "  'OTHFOSS': 12.21,\n",
       "  'OTHRENEW': 0.51,\n",
       "  'SOLAR': 4.43,\n",
       "  'WIND': 15.18},\n",
       " 2013: {'BIO': 5.68,\n",
       "  'GAS': 18.39,\n",
       "  'HARDCOAL': 23.84,\n",
       "  'HYDRO': 71.92,\n",
       "  'LIGNITE': 0.0,\n",
       "  'NUCLEAR': 423.68,\n",
       "  'OTHFOSS': 11.12,\n",
       "  'OTHRENEW': 0.5,\n",
       "  'SOLAR': 5.19,\n",
       "  'WIND': 16.13},\n",
       " 2014: {'BIO': 5.99,\n",
       "  'GAS': 13.16,\n",
       "  'HARDCOAL': 11.26,\n",
       "  'HYDRO': 63.77,\n",
       "  'LIGNITE': 0.0,\n",
       "  'NUCLEAR': 436.48,\n",
       "  'OTHFOSS': 11.26,\n",
       "  'OTHRENEW': 0.56,\n",
       "  'SOLAR': 6.39,\n",
       "  'WIND': 17.32},\n",
       " 2015: {'BIO': 6.53,\n",
       "  'GAS': 21.14,\n",
       "  'HARDCOAL': 11.89,\n",
       "  'HYDRO': 55.56,\n",
       "  'LIGNITE': 0.0,\n",
       "  'NUCLEAR': 437.43,\n",
       "  'OTHFOSS': 11.62,\n",
       "  'OTHRENEW': 0.58,\n",
       "  'SOLAR': 7.75,\n",
       "  'WIND': 21.42},\n",
       " 2016: {'BIO': 7.52,\n",
       "  'GAS': 34.97,\n",
       "  'HARDCOAL': 10.23,\n",
       "  'HYDRO': 60.84,\n",
       "  'LIGNITE': 0.0,\n",
       "  'NUCLEAR': 403.2,\n",
       "  'OTHFOSS': 11.25,\n",
       "  'OTHRENEW': 0.6,\n",
       "  'SOLAR': 8.66,\n",
       "  'WIND': 21.38},\n",
       " 2017: {'BIO': 7.78,\n",
       "  'GAS': 40.5,\n",
       "  'HARDCOAL': 12.81,\n",
       "  'HYDRO': 50.0,\n",
       "  'LIGNITE': 0.0,\n",
       "  'NUCLEAR': 398.36,\n",
       "  'OTHFOSS': 11.78,\n",
       "  'OTHRENEW': 0.65,\n",
       "  'SOLAR': 9.59,\n",
       "  'WIND': 24.61},\n",
       " 2018: {'BIO': 8.38,\n",
       "  'GAS': 30.61,\n",
       "  'HARDCOAL': 8.31,\n",
       "  'HYDRO': 65.11,\n",
       "  'LIGNITE': 0.0,\n",
       "  'NUCLEAR': 412.94,\n",
       "  'OTHFOSS': 10.35,\n",
       "  'OTHRENEW': 0.61,\n",
       "  'SOLAR': 10.89,\n",
       "  'WIND': 28.6},\n",
       " 2019: {'BIO': 8.64,\n",
       "  'GAS': 39.31,\n",
       "  'HARDCOAL': 3.64,\n",
       "  'HYDRO': 56.91,\n",
       "  'LIGNITE': 0.0,\n",
       "  'NUCLEAR': 399.01,\n",
       "  'OTHFOSS': 10.55,\n",
       "  'OTHRENEW': 0.61,\n",
       "  'SOLAR': 12.23,\n",
       "  'WIND': 34.72},\n",
       " 2020: {'BIO': 8.47,\n",
       "  'GAS': 35.97,\n",
       "  'HARDCOAL': 3.42,\n",
       "  'HYDRO': 61.71,\n",
       "  'LIGNITE': 0.0,\n",
       "  'NUCLEAR': 355.39,\n",
       "  'OTHFOSS': 10.44,\n",
       "  'OTHRENEW': 0.61,\n",
       "  'SOLAR': 13.26,\n",
       "  'WIND': 40.33}}"
      ]
     },
     "execution_count": 180,
     "metadata": {},
     "output_type": "execute_result"
    }
   ],
   "source": [
    "\"\"\" EXAMPLE WITH FRANCE \"\"\"\n",
    "\n",
    "france = create_country_dict(df, 'France')\n",
    "france_gen = create_yearly_gen_dict(france, years)\n",
    "france_gen"
   ]
  },
  {
   "cell_type": "code",
   "execution_count": null,
   "metadata": {},
   "outputs": [],
   "source": [
    "france_print = {}"
   ]
  },
  {
   "cell_type": "code",
   "execution_count": null,
   "metadata": {},
   "outputs": [],
   "source": [
    "\"\"\"\n",
    "DESIRED DICT FORMAT \n",
    "\n",
    "\n",
    "{year 1:\n",
    "    {'fossils': xx,\n",
    "    'solar': xx,\n",
    "    'wind': xx,\n",
    "    'nuclear': xx,\n",
    "    'hydro': xx,\n",
    "    'biomass': xx,\n",
    "    'others': xx},\n",
    "year 2:\n",
    "    {'fossils': xx,\n",
    "    'solar': xx,\n",
    "    'wind': xx,\n",
    "    'nuclear': xx,\n",
    "    'hydro': xx,\n",
    "    'biomass': xx,\n",
    "    'others': xx},\n",
    "etc.\n",
    "    \n",
    "    }\n",
    "\"\"\""
   ]
  },
  {
   "cell_type": "code",
   "execution_count": null,
   "metadata": {},
   "outputs": [],
   "source": [
    "\"\"\" creating dict using for loop\"\"\"\n",
    "\n",
    "#germany = {}\n",
    "#for year in years:\n",
    "    #germany[year] = df_test[filter_by_year(year, df_test)][gen].to_dict()\n",
    "#germany"
   ]
  }
 ],
 "metadata": {
  "interpreter": {
   "hash": "6a716c2c4151a73aca89c61fc1bdaff353361ae348658ebcc2cbeba07af739e8"
  },
  "kernelspec": {
   "display_name": "Python 3.10.0 64-bit",
   "language": "python",
   "name": "python3"
  },
  "language_info": {
   "codemirror_mode": {
    "name": "ipython",
    "version": 3
   },
   "file_extension": ".py",
   "mimetype": "text/x-python",
   "name": "python",
   "nbconvert_exporter": "python",
   "pygments_lexer": "ipython3",
   "version": "3.10.0"
  },
  "orig_nbformat": 4
 },
 "nbformat": 4,
 "nbformat_minor": 2
}
