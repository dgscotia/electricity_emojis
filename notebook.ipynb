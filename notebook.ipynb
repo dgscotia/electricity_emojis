{
 "cells": [
  {
   "cell_type": "code",
   "execution_count": null,
   "metadata": {},
   "outputs": [],
   "source": [
    "import pandas as pd\n",
    "import matplotlib.pyplot as plt\n",
    "import numpy as np\n",
    "from pywaffle import Waffle\n",
    "\n",
    "df = pd.read_csv(\"EER_2022_generation.csv\")\n",
    "\n",
    "gen = \"generation_twh\"\n",
    "start = 2010\n",
    "stop = 2021\n",
    "years = [year for year in range(start,stop+1)]\n"
   ]
  },
  {
   "cell_type": "code",
   "execution_count": null,
   "metadata": {},
   "outputs": [],
   "source": [
    "def change_dtype(x):\n",
    "    try:\n",
    "        return float(x)\n",
    "    except:\n",
    "        return x\n",
    "\n",
    "icons = pd.read_json(\"icons.json\").columns.tolist()\n",
    "with open(\"icons.txt\", mode='w') as file:\n",
    "    file.write(\"\\n\".join(icons))\n",
    "\n",
    "countries = df['country_name'].unique().tolist()"
   ]
  },
  {
   "cell_type": "code",
   "execution_count": null,
   "metadata": {},
   "outputs": [],
   "source": [
    "icon_map = {\n",
    "    'Fossils': 'gas-pump',\n",
    "    'Solar': 'sun',\n",
    "    'Wind': 'wind',\n",
    "    'Nuclear': 'atom',\n",
    "    'Hydro': 'water',\n",
    "    'Bioenergy': 'leaf',\n",
    "    'Other': 'temperature-high'\n",
    "}\n",
    "\n",
    "color_map = {\n",
    "    'Fossils': '#7f7f7f',\n",
    "    'Solar': '#ff7f0e',\n",
    "    'Wind': '#17becf',\n",
    "    'Nuclear': '#c5b0d5',\n",
    "    'Hydro': '#1f77b4',\n",
    "    'Bioenergy': '#2ca02c',\n",
    "    'Other': '#d62728'\n",
    "}\n",
    "\n",
    "\n",
    "gas = '#8c564b'\n",
    "oil = '#7f7f7f'\n",
    "other_fossils = '#c7c7c7'\n",
    "heat_pumps = '#c5b0d5'\n",
    "direct_re = '#2ca02c'\n",
    "district_heat = '#d62728'\n",
    "electricity = '#1f77b4'\n",
    "non_re_elec = '#ffbb78'\n",
    "re_elec = '#98df8a'\n",
    "re_DHC = '#d62728'\n",
    "ambient = '#17becf'\n",
    "\n",
    "\"\"\" \n",
    "FOSSILS \n",
    "- gas-pump\n",
    "- oil-can\n",
    "- biohazard\n",
    "- spider\n",
    "- poo-storm\n",
    "- heart-broken\n",
    "\n",
    "OTHERRENEW\n",
    "- temperature-high\n",
    "- pepper-hot\n",
    "- mountain\n",
    "\n",
    "\"\"\""
   ]
  },
  {
   "cell_type": "code",
   "execution_count": null,
   "metadata": {},
   "outputs": [],
   "source": [
    "df = df.apply(lambda x: change_dtype(x))\n",
    "# df = df.set_index(\"fuel_code\")"
   ]
  },
  {
   "cell_type": "code",
   "execution_count": null,
   "metadata": {},
   "outputs": [],
   "source": [
    "def filter_by_country(target_country, df_func):\n",
    "    filt = df_func[\"country_name\"] == target_country\n",
    "    return filt\n",
    "\n",
    "def filter_by_year(target_year, df_func):\n",
    "    filt_year = df_func[\"year\"] == target_year\n",
    "    return filt_year"
   ]
  },
  {
   "cell_type": "code",
   "execution_count": null,
   "metadata": {},
   "outputs": [],
   "source": [
    "def create_yearly_gen_dict(df_country, years):\n",
    "    x = {year: df_country[filter_by_year(year, df_country)][gen].to_dict() for year in years}\n",
    "    return pd.DataFrame(x).T\n",
    "\n",
    "def create_country_dict(dataframe, country):\n",
    "    df = dataframe[filter_by_country(country, dataframe)]\n",
    "    df.set_index(\"fuel_code\",inplace=True)\n",
    "    return df\n",
    "\n",
    "def create_categories(df):\n",
    "    df.fillna(0, inplace=True)\n",
    "    df['Fossils'] = df['HARDCOAL'] + df['LIGNITE'] + df['OTHFOSS'] + df['GAS']\n",
    "    df.drop(['HARDCOAL', 'LIGNITE','OTHFOSS','GAS'], axis=1, inplace=True)\n",
    "    df.rename(columns={\n",
    "    'SOLAR': 'Solar',\n",
    "    'WIND': 'Wind',\n",
    "    'NUCLEAR': 'Nuclear',\n",
    "    'HYDRO': 'Hydro',\n",
    "    'BIO': 'Bioenergy',\n",
    "    'OTHRENEW': 'Other'}, \n",
    "    inplace=True)\n",
    "    return df\n",
    "\n",
    "def normalize(df):\n",
    "    tot = df.sum(axis=1)\n",
    "    for col in df:\n",
    "        df[col] /= (tot)\n",
    "        df[col] = round(df[col]*100,2)\n",
    "        df[col] - round(df[col],0)\n",
    "        #df[col] = df[col].astype(int)\n",
    "    df.fillna(0, inplace=True)\n",
    "    return df"
   ]
  },
  {
   "cell_type": "code",
   "execution_count": null,
   "metadata": {},
   "outputs": [],
   "source": [
    "create_categories(create_yearly_gen_dict(create_country_dict(df, 'Germany'), years))"
   ]
  },
  {
   "cell_type": "code",
   "execution_count": null,
   "metadata": {},
   "outputs": [],
   "source": [
    "def create_normalized_df(df, country):\n",
    "    country_df = create_country_dict(df, country)\n",
    "    gen_df = create_yearly_gen_dict(country_df, years)\n",
    "    cat_df = create_categories(gen_df)\n",
    "    plot_df = normalize(cat_df)\n",
    "    return plot_df"
   ]
  },
  {
   "cell_type": "code",
   "execution_count": null,
   "metadata": {},
   "outputs": [],
   "source": [
    "test = create_normalized_df(df, 'Germany')\n",
    "test[\"total\"] = test.sum(axis=1)\n",
    "test"
   ]
  },
  {
   "cell_type": "markdown",
   "metadata": {},
   "source": [
    "## WAFFLE CHART"
   ]
  },
  {
   "cell_type": "code",
   "execution_count": null,
   "metadata": {},
   "outputs": [],
   "source": [
    "def plot_frame(dataframe, country, year):\n",
    "    df_plot = create_normalized_df(dataframe, country)\n",
    "    data = df_plot.loc[year].sort_values(ascending=False)\n",
    "    labels = data.index.tolist()\n",
    "    icons_plot = [icon_map.get(label) for label in labels]\n",
    "    colors_plot = [color_map.get(label) for label in labels]\n",
    "    fig = plt.figure(\n",
    "        FigureClass=Waffle, \n",
    "        rows=10, \n",
    "        values=data,\n",
    "\n",
    "        title={\n",
    "            'label': f'{country} in {year}: Electricity Production',\n",
    "            'loc': 'center',\n",
    "            'fontdict': {\n",
    "                'fontsize': 30, \n",
    "                'fontname': 'Microsoft Yi Baiti'\n",
    "            }\n",
    "        },\n",
    "        legend={\n",
    "            'labels' : labels,\n",
    "            'loc': 8,\n",
    "            'bbox_to_anchor': (0.5, -0.1),\n",
    "            'ncol': len(data),\n",
    "            'framealpha': 0,\n",
    "            'fontsize': 12, \n",
    "        },\n",
    "        icons = icons_plot,\n",
    "        colors= colors_plot,\n",
    "        dpi = 200,\n",
    "        icon_size=35,\n",
    "        icon_legend=True,\n",
    "        block_arranging_style='snake',\n",
    "        figsize=(12,12),\n",
    "        facecolor='snow'\n",
    "    )\n",
    "    plt.text(0, -0.12, '@duncanmgibb', fontsize=15, fontfamily='Microsoft Yi Baiti', color='#7f7f7f')\n",
    "    plt.savefig(f\"exported/{country}_{year}\")\n",
    "    plt.show()"
   ]
  },
  {
   "cell_type": "code",
   "execution_count": null,
   "metadata": {},
   "outputs": [],
   "source": [
    "create_normalized_df(df, 'Germany')"
   ]
  },
  {
   "cell_type": "code",
   "execution_count": null,
   "metadata": {},
   "outputs": [],
   "source": [
    "plot_frame(df, 'Germany', 2021)"
   ]
  },
  {
   "cell_type": "code",
   "execution_count": null,
   "metadata": {},
   "outputs": [],
   "source": [
    "for country in countries:\n",
    "    plot_frame(df, country, 2021)"
   ]
  },
  {
   "cell_type": "code",
   "execution_count": null,
   "metadata": {},
   "outputs": [],
   "source": [
    "def plot_bars(df):\n",
    "    df.plot(kind='bar', stacked=True, figsize=(12,8), edgecolor='black')\n",
    "    plt.legend(bbox_to_anchor=(1.15, 0.5), loc = 9, ncol=1, framealpha=0)\n",
    "    plt.grid(alpha=0.4, axis='y', zorder=5)\n",
    "    plt.title('Greece', y =1.08)\n",
    "    #plt.xlabel(xlabel='', fontdict=text_props, labelpad=20)\n",
    "    #plt.xticks(rotation=20, fontfamily=font, fontsize=bar_font-2)\n",
    "    #plt.ylabel('Share', fontfamily=font, fontsize=bar_font)\n",
    "    #plt.yticks(fontfamily=font, fontsize=bar_font)\n",
    "    plt.margins(y=0)\n",
    "    plt.tight_layout()\n"
   ]
  },
  {
   "cell_type": "code",
   "execution_count": null,
   "metadata": {},
   "outputs": [],
   "source": []
  },
  {
   "cell_type": "code",
   "execution_count": null,
   "metadata": {},
   "outputs": [],
   "source": []
  }
 ],
 "metadata": {
  "interpreter": {
   "hash": "6a716c2c4151a73aca89c61fc1bdaff353361ae348658ebcc2cbeba07af739e8"
  },
  "kernelspec": {
   "display_name": "Python 3.10.0 64-bit",
   "language": "python",
   "name": "python3"
  },
  "language_info": {
   "codemirror_mode": {
    "name": "ipython",
    "version": 3
   },
   "file_extension": ".py",
   "mimetype": "text/x-python",
   "name": "python",
   "nbconvert_exporter": "python",
   "pygments_lexer": "ipython3",
   "version": "3.10.0"
  },
  "orig_nbformat": 4
 },
 "nbformat": 4,
 "nbformat_minor": 2
}
